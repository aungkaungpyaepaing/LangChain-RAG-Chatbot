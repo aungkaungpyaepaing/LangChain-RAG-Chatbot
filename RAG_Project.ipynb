{
 "cells": [
  {
   "cell_type": "code",
   "id": "initial_id",
   "metadata": {
    "collapsed": true,
    "ExecuteTime": {
     "end_time": "2025-06-04T05:00:59.969140Z",
     "start_time": "2025-06-04T05:00:59.959345Z"
    }
   },
   "source": [
    "%load_ext dotenv\n",
    "%dotenv"
   ],
   "outputs": [
    {
     "name": "stdout",
     "output_type": "stream",
     "text": [
      "The dotenv extension is already loaded. To reload it, use:\n",
      "  %reload_ext dotenv\n"
     ]
    }
   ],
   "execution_count": 14
  },
  {
   "metadata": {},
   "cell_type": "markdown",
   "source": "Importing",
   "id": "48986191596c6e62"
  },
  {
   "metadata": {
    "ExecuteTime": {
     "end_time": "2025-06-04T05:15:37.601746Z",
     "start_time": "2025-06-04T05:15:37.583016Z"
    }
   },
   "cell_type": "code",
   "source": [
    "from langchain_community.document_loaders import Docx2txtLoader\n",
    "from langchain_text_splitters.markdown import MarkdownHeaderTextSplitter\n",
    "from langchain_text_splitters.character import CharacterTextSplitter\n",
    "from langchain_openai.embeddings import OpenAIEmbeddings\n",
    "from langchain_community.vectorstores import Chroma\n",
    "\n",
    "\n",
    "from langchain_openai import ChatOpenAI\n",
    "from langchain_core.prompts import PromptTemplate\n",
    "from langchain_core.runnables import  RunnablePassthrough\n",
    "from langchain_core.output_parsers import StrOutputParser"
   ],
   "id": "97492289ecae27bd",
   "outputs": [],
   "execution_count": 41
  },
  {
   "metadata": {},
   "cell_type": "markdown",
   "source": "Data Loading",
   "id": "2d84ceff6d6a1a64"
  },
  {
   "metadata": {
    "ExecuteTime": {
     "end_time": "2025-06-04T05:01:00.037851Z",
     "start_time": "2025-06-04T05:01:00.027764Z"
    }
   },
   "cell_type": "code",
   "source": [
    "loader = Docx2txtLoader(r'/Users/aungkaungpyaepaing/Desktop/df/Introduction_to_Data_and_Data_Science_2.docx')\n",
    "pages = loader.load()"
   ],
   "id": "e6bc6132b5cbe0d2",
   "outputs": [],
   "execution_count": 16
  },
  {
   "metadata": {},
   "cell_type": "markdown",
   "source": "Maskdown Split",
   "id": "81f596e922040581"
  },
  {
   "metadata": {
    "ExecuteTime": {
     "end_time": "2025-06-04T05:01:00.072456Z",
     "start_time": "2025-06-04T05:01:00.068295Z"
    }
   },
   "cell_type": "code",
   "source": [
    "md_splitter = MarkdownHeaderTextSplitter(headers_to_split_on=[('#', 'Course Title'),\n",
    "                                                              ('##', 'Lecture Title')])\n",
    "pages_md_split = md_splitter.split_text(pages[0].page_content)"
   ],
   "id": "b03c2de33e6d1717",
   "outputs": [],
   "execution_count": 17
  },
  {
   "metadata": {},
   "cell_type": "markdown",
   "source": "Removing new line /n from text",
   "id": "57f3fa457e91dbcc"
  },
  {
   "metadata": {
    "ExecuteTime": {
     "end_time": "2025-06-04T05:01:00.106589Z",
     "start_time": "2025-06-04T05:01:00.103715Z"
    }
   },
   "cell_type": "code",
   "source": [
    "for i in range(len(pages_md_split)):\n",
    "    pages_md_split[i].page_content = ' '.join(pages_md_split[i].page_content.split())"
   ],
   "id": "c9ad89b08fd95faf",
   "outputs": [],
   "execution_count": 18
  },
  {
   "metadata": {},
   "cell_type": "markdown",
   "source": "Character Splitter",
   "id": "38553bc1714c4be4"
  },
  {
   "metadata": {
    "ExecuteTime": {
     "end_time": "2025-06-04T05:01:00.133891Z",
     "start_time": "2025-06-04T05:01:00.131007Z"
    }
   },
   "cell_type": "code",
   "source": [
    "char_split = CharacterTextSplitter(\n",
    "    separator='.',\n",
    "    chunk_size=500,\n",
    "    chunk_overlap=50\n",
    ")"
   ],
   "id": "3e86c44db57b040d",
   "outputs": [],
   "execution_count": 19
  },
  {
   "metadata": {
    "ExecuteTime": {
     "end_time": "2025-06-04T05:01:00.155312Z",
     "start_time": "2025-06-04T05:01:00.151116Z"
    }
   },
   "cell_type": "code",
   "source": "pages_char_split = char_split.split_documents(pages_md_split)",
   "id": "bd145010304d4c7",
   "outputs": [],
   "execution_count": 20
  },
  {
   "metadata": {},
   "cell_type": "markdown",
   "source": "Embedding",
   "id": "5d79780963750bb3"
  },
  {
   "metadata": {
    "ExecuteTime": {
     "end_time": "2025-06-04T05:01:00.195046Z",
     "start_time": "2025-06-04T05:01:00.173958Z"
    }
   },
   "cell_type": "code",
   "source": "embedding = OpenAIEmbeddings(model = 'text-embedding-ada-002')",
   "id": "905b4231c6a057c6",
   "outputs": [],
   "execution_count": 21
  },
  {
   "metadata": {},
   "cell_type": "markdown",
   "source": "Vector Storing using Chroma",
   "id": "9731e5337ef2122c"
  },
  {
   "metadata": {
    "ExecuteTime": {
     "end_time": "2025-06-04T05:02:11.228553Z",
     "start_time": "2025-06-04T05:02:08.244464Z"
    }
   },
   "cell_type": "code",
   "source": "vectorstore = Chroma.from_documents(documents = pages_char_split, embedding = embedding, persist_directory= './intro-ds-vectorstore')",
   "id": "f9cfaa3b5a763f2",
   "outputs": [],
   "execution_count": 23
  },
  {
   "metadata": {
    "ExecuteTime": {
     "end_time": "2025-06-04T05:02:50.524556Z",
     "start_time": "2025-06-04T05:02:50.516829Z"
    }
   },
   "cell_type": "code",
   "source": [
    "vectorstore_from_directory = Chroma(persist_directory = './intro-ds-vectorstore',\n",
    "                                    embedding_function=embedding)"
   ],
   "id": "ebd69fda5f36300d",
   "outputs": [],
   "execution_count": 25
  },
  {
   "metadata": {
    "ExecuteTime": {
     "end_time": "2025-06-04T05:04:00.734458Z",
     "start_time": "2025-06-04T05:04:00.715442Z"
    }
   },
   "cell_type": "code",
   "source": "len(vectorstore_from_directory.get()['documents'])",
   "id": "a3775607e2d3e35e",
   "outputs": [
    {
     "data": {
      "text/plain": [
       "20"
      ]
     },
     "execution_count": 27,
     "metadata": {},
     "output_type": "execute_result"
    }
   ],
   "execution_count": 27
  },
  {
   "metadata": {},
   "cell_type": "markdown",
   "source": "Retriever",
   "id": "61d21465b0fd03c9"
  },
  {
   "metadata": {
    "ExecuteTime": {
     "end_time": "2025-06-04T05:15:07.802165Z",
     "start_time": "2025-06-04T05:15:07.788531Z"
    }
   },
   "cell_type": "code",
   "source": [
    "retriever = vectorstore_from_directory.as_retriever(serch_type = 'mmr',\n",
    "                                                    search_kwargs = {'k':3})"
   ],
   "id": "3d53fcf255f7c242",
   "outputs": [],
   "execution_count": 35
  },
  {
   "metadata": {},
   "cell_type": "markdown",
   "source": "setting up Chain",
   "id": "bab34bde31e6319a"
  },
  {
   "metadata": {
    "ExecuteTime": {
     "end_time": "2025-06-04T05:15:09.074450Z",
     "start_time": "2025-06-04T05:15:09.068790Z"
    }
   },
   "cell_type": "code",
   "source": [
    "TEMPLATE = '''\n",
    "Answer the following question:\n",
    "{question}\n",
    "\n",
    "To answer the question, use only the following context:\n",
    "{context}\n",
    "\n",
    "At the end of the response, specify the name of the lecture this context is taken from in the format:\n",
    "Resources : *Lecture Title*\n",
    "where *Lecture Title* should be substituted with the title all resource lectures.\n",
    "'''\n",
    "\n",
    "prompt_template = PromptTemplate.from_template(TEMPLATE)"
   ],
   "id": "da3b9b0621a4fe1e",
   "outputs": [],
   "execution_count": 36
  },
  {
   "metadata": {
    "ExecuteTime": {
     "end_time": "2025-06-04T05:15:09.588265Z",
     "start_time": "2025-06-04T05:15:09.552413Z"
    }
   },
   "cell_type": "code",
   "source": [
    "chat = ChatOpenAI(model_name = 'gpt-4',\n",
    "                  model_kwargs={'seed':365},\n",
    "                  temperature = 0,\n",
    "                  max_tokens = 100)"
   ],
   "id": "b7748aff1d8661ae",
   "outputs": [
    {
     "name": "stderr",
     "output_type": "stream",
     "text": [
      "/Users/aungkaungpyaepaing/PycharmProjects/LangChain/.venv/lib/python3.11/site-packages/IPython/core/interactiveshell.py:3610: UserWarning: Parameters {'seed'} should be specified explicitly. Instead they were passed in as part of `model_kwargs` parameter.\n",
      "  if await self.run_code(code, result, async_=asy):\n"
     ]
    }
   ],
   "execution_count": 37
  },
  {
   "metadata": {
    "ExecuteTime": {
     "end_time": "2025-06-04T05:15:09.963195Z",
     "start_time": "2025-06-04T05:15:09.960151Z"
    }
   },
   "cell_type": "code",
   "source": "question = \"Which programming language do data scientists use?\"",
   "id": "bb68b95b7c2ad0d4",
   "outputs": [],
   "execution_count": 38
  },
  {
   "metadata": {},
   "cell_type": "markdown",
   "source": "Building Chain",
   "id": "f4f7f8c8bc34095d"
  },
  {
   "metadata": {
    "ExecuteTime": {
     "end_time": "2025-06-04T05:15:11.824534Z",
     "start_time": "2025-06-04T05:15:11.817566Z"
    }
   },
   "cell_type": "code",
   "source": [
    "chain = ({'context':retriever,\n",
    "         'question':RunnablePassthrough()}\n",
    "         | prompt_template\n",
    "         | chat\n",
    "         | StrOutputParser())\n"
   ],
   "id": "56b672d323ffc6f8",
   "outputs": [],
   "execution_count": 39
  },
  {
   "metadata": {
    "ExecuteTime": {
     "end_time": "2025-06-04T05:15:20.781636Z",
     "start_time": "2025-06-04T05:15:14.620643Z"
    }
   },
   "cell_type": "code",
   "source": "chain.invoke(question)",
   "id": "1432d638a17b0d7e",
   "outputs": [
    {
     "data": {
      "text/plain": [
       "'Data scientists use several programming languages. The most popular ones are R and Python, which are highly adaptable and can manipulate data across multiple data and data science software platforms. They are suitable for mathematical and statistical computations and can solve a wide variety of business and data-related problems. Apart from R and Python, data scientists also use other languages like Java, Scala, MATLAB, JavaScript, C, and C++. These languages are particularly useful when dealing with big data and machine learning, where a lot of computational power'"
      ]
     },
     "execution_count": 40,
     "metadata": {},
     "output_type": "execute_result"
    }
   ],
   "execution_count": 40
  },
  {
   "metadata": {},
   "cell_type": "code",
   "outputs": [],
   "execution_count": null,
   "source": "",
   "id": "90ba30531ca6dbca"
  }
 ],
 "metadata": {
  "kernelspec": {
   "display_name": "Python 3",
   "language": "python",
   "name": "python3"
  },
  "language_info": {
   "codemirror_mode": {
    "name": "ipython",
    "version": 2
   },
   "file_extension": ".py",
   "mimetype": "text/x-python",
   "name": "python",
   "nbconvert_exporter": "python",
   "pygments_lexer": "ipython2",
   "version": "2.7.6"
  }
 },
 "nbformat": 4,
 "nbformat_minor": 5
}
